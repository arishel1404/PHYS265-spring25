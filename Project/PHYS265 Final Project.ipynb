{
 "cells": [
  {
   "cell_type": "markdown",
   "id": "7c6024c2-f3e5-4799-acb2-0db9529cddd2",
   "metadata": {},
   "source": [
    "# PHYS265 Final Project: LMfit"
   ]
  },
  {
   "cell_type": "markdown",
   "id": "dcf33d2e-5945-4d21-89d3-b6c1a5159e25",
   "metadata": {},
   "source": [
    "## README\n",
    "\n",
    "This work is loosely based on my research with the UMD Math Bio RIT into COVID-19 and its effects on depression, but for the purposes of this project I did not consider depression, as that is an overcomplication which is precisely what I am researching this summer."
   ]
  },
  {
   "cell_type": "markdown",
   "id": "5e48daa6-1a42-40c9-a2f6-34fcb8f1649a",
   "metadata": {},
   "source": [
    "## Install LMfit"
   ]
  },
  {
   "cell_type": "markdown",
   "id": "4ac9eda2-6084-4fd2-931c-81571f9a612f",
   "metadata": {},
   "source": [
    "##### (Change to a markdown and run to install LMfit if not already installed)\n",
    "!pip install lmfit"
   ]
  },
  {
   "cell_type": "markdown",
   "id": "ce976666-24dc-4e69-9dea-a54d25c8e10b",
   "metadata": {},
   "source": [
    "## Imports and get LMfit version"
   ]
  },
  {
   "cell_type": "code",
   "execution_count": 1,
   "id": "ac7bbd0c-bfef-41b5-9757-b5d7e5828148",
   "metadata": {},
   "outputs": [
    {
     "name": "stdout",
     "output_type": "stream",
     "text": [
      "LMfit Version: 1.3.2\n"
     ]
    }
   ],
   "source": [
    "import lmfit\n",
    "import numpy as np\n",
    "import pandas as pd\n",
    "import matplotlib.pyplot as plt\n",
    "from scipy.integrate import odeint\n",
    "\n",
    "print(f\"LMfit Version: {lmfit.__version__}\")"
   ]
  },
  {
   "cell_type": "markdown",
   "id": "2a753ee3-2e93-4c71-bbb5-c45170003817",
   "metadata": {},
   "source": [
    "## Set up differential equations to model COVID-19 spread"
   ]
  },
  {
   "cell_type": "code",
   "execution_count": 2,
   "id": "d8d12f63-c4cc-4c90-9bd2-eb17d6f0420f",
   "metadata": {},
   "outputs": [],
   "source": [
    "def spread(x, t, params):\n",
    "    S   = x[0]  # Population susceptible to COVID-19\n",
    "    I   = x[1]  # Population with mild case of COVID-19\n",
    "    A   = x[2]  # Population with acute case of COVID-19\n",
    "    C   = x[3]  # Population with long-COVID\n",
    "    R   = x[4]  # Population recovered from COVID-19\n",
    "\n",
    "    alpha, beta, delta_1, delta_2, gamma_1, gamma_2, gamma_3, mu = params\n",
    "    \n",
    "    dS   = -(beta * S * I)\n",
    "    dI   = (beta * S * I) - (I * (alpha + delta_1 + gamma_1))\n",
    "    dA   = (alpha * I) - (A * (mu + gamma_2 + delta_2))\n",
    "    dC   = (delta_1 * I) + (delta_2 * A) - (C * (gamma_3))\n",
    "    dR   = (gamma_1 * I) + (gamma_2 * A) + (gamma_3 * C)\n",
    "    dD   = mu * A\n",
    "\n",
    "    return np.array([dS, dI, dA, dC, dR, dD])"
   ]
  },
  {
   "cell_type": "markdown",
   "id": "44ebfcf1-a201-4186-ae9a-2d1b58581f85",
   "metadata": {},
   "source": [
    "## Set up parameters with LMfit"
   ]
  },
  {
   "cell_type": "code",
   "execution_count": 3,
   "id": "ab975c29-e2bd-48d2-984b-a9d5dc3c6475",
   "metadata": {},
   "outputs": [],
   "source": [
    "params = lmfit.Parameters()\n",
    "\n",
    "# Fixed parameters using vary = false\n",
    "params.add('alpha',   value = 0.05, vary = False)\n",
    "params.add('gamma_1', value = 0.1, vary = False)\n",
    "params.add('gamma_2', value = 0.03, vary = False)\n",
    "params.add('gamma_3', value = 0.003, vary = False)\n",
    "params.add('delta_1', value = 0.001, vary = False)\n",
    "params.add('delta_2', value = 0.001, vary = False)\n",
    "\n",
    "# Fitting parameters with an initializing value and max/min\n",
    "params.add('beta', value = 2, max = 10, min = 0.1)\n",
    "#params.add('delta_1', value = 0.001, max = 0.01, min = 0.0001)\n",
    "#params.add('delta_2', value = 0.001, max = 0.01, min = 0.0001)\n",
    "params.add('mu',   value = 0.005, max = 0.01, min = 0.0001)\n",
    "\n",
    "# Set initial conditions\n",
    "IC = [200000, 10, 1, 0, 0, 0]"
   ]
  },
  {
   "cell_type": "markdown",
   "id": "11762fd8-dec8-4708-a318-545ccf02d4b7",
   "metadata": {},
   "source": [
    "## Defining a function to fit"
   ]
  },
  {
   "cell_type": "code",
   "execution_count": 4,
   "id": "6a1d79a9-b991-4f34-abe0-367fc9a3c6e0",
   "metadata": {},
   "outputs": [],
   "source": [
    "def spread_results(t, alpha, beta, delta_1, delta_2, gamma_1, gamma_2, gamma_3, mu):    \n",
    "    \n",
    "    param_vals = [alpha, beta, delta_1, delta_2, gamma_1, gamma_2, gamma_3, mu]    \n",
    "    \n",
    "    soln = odeint(spread, IC, t, args = (param_vals,), rtol = 1e-3, atol = 1e-6)\n",
    "    X = soln.T\n",
    "    \n",
    "    return X[2] + X[3]"
   ]
  },
  {
   "cell_type": "markdown",
   "id": "fef055f0-0dbb-4a6d-8b24-6220116183a9",
   "metadata": {},
   "source": [
    "## Import data"
   ]
  },
  {
   "cell_type": "code",
   "execution_count": 5,
   "id": "36d5ddf6-6dcc-48dd-8a63-40def7638f1c",
   "metadata": {},
   "outputs": [],
   "source": [
    "data = pd.read_csv(\"US_COVID_Hosps_clean.csv\")\n",
    "data['Date'] = pd.to_datetime(data['Date'])\n",
    "\n",
    "hospitalizations = data['COVID-19 Hospitalizations']\n",
    "hospitalizations = hospitalizations[:150]\n",
    "\n",
    "times = (data['Date'] - data['Date'].min()).dt.days\n",
    "times = times[:150]\n",
    "\n",
    "dates = data['Date']\n",
    "dates = dates[:150]\n",
    "dates = [d.strftime('%m-%d-%y') for d in dates]\n",
    "\n",
    "tvals = np.linspace(0, len(hospitalizations), len(hospitalizations))"
   ]
  },
  {
   "cell_type": "markdown",
   "id": "78f74e88-e739-442c-b89f-3727afe01d67",
   "metadata": {},
   "source": [
    "## Fitting with LMfit"
   ]
  },
  {
   "cell_type": "code",
   "execution_count": 6,
   "id": "0152131e-8200-4086-a705-a0b465ef431c",
   "metadata": {},
   "outputs": [
    {
     "name": "stdout",
     "output_type": "stream",
     "text": [
      "[[Model]]\n",
      "    Model(spread_results)\n",
      "[[Fit Statistics]]\n",
      "    # fitting method   = leastsq\n",
      "    # function evals   = 99\n",
      "    # data points      = 150\n",
      "    # variables        = 2\n",
      "    chi-square         = 1.7310e+11\n",
      "    reduced chi-square = 1.1696e+09\n",
      "    Akaike info crit   = 3133.97655\n",
      "    Bayesian info crit = 3139.99782\n",
      "    R-squared          = -2.26066300\n",
      "[[Variables]]\n",
      "    alpha:    0.05 (fixed)\n",
      "    gamma_1:  0.1 (fixed)\n",
      "    gamma_2:  0.03 (fixed)\n",
      "    gamma_3:  0.003 (fixed)\n",
      "    delta_1:  0.001 (fixed)\n",
      "    delta_2:  0.001 (fixed)\n",
      "    beta:     2.01333101 +/- 730.462069 (36281.27%) (init = 2)\n",
      "    mu:       0.00419474 +/- 0.01735331 (413.69%) (init = 0.005)\n"
     ]
    }
   ],
   "source": [
    "COVID_model = lmfit.Model(spread_results, independent_vars = ['t'])\n",
    "\n",
    "result = COVID_model.fit(hospitalizations,\n",
    "                         params = params,\n",
    "                         t = times,\n",
    "                         max_nfev = 1000,\n",
    "                         method = 'leastsq')\n",
    "\n",
    "prediction = result.best_fit\n",
    "\n",
    "print(result.fit_report())"
   ]
  },
  {
   "cell_type": "markdown",
   "id": "a68378d9-3ac0-47fc-b9ee-a6d2690076c0",
   "metadata": {},
   "source": [
    "## Plotting"
   ]
  },
  {
   "cell_type": "code",
   "execution_count": 8,
   "id": "f0c24d04-cd93-4e30-b4dd-931eb51ed9f5",
   "metadata": {},
   "outputs": [
    {
     "data": {
      "image/png": "[encoded data removed]",
      "text/plain": [
       "<Figure size 640x480 with 1 Axes>"
      ]
     },
     "metadata": {},
     "output_type": "display_data"
    }
   ],
   "source": [
    "fig, ax1 = plt.subplots()\n",
    "ax1.plot(dates, prediction, label = 'Predicted Cases', color = 'blue')\n",
    "\n",
    "ax1.scatter(dates, hospitalizations, s = 4, c = 'red', label = 'Real Cases')\n",
    "ax1.set_ylabel(\"Total Hospitalizations\")\n",
    "\n",
    "ax1.set_xticks(dates[::10], dates[::10], rotation=70)\n",
    "ax1.set_title(\"Fitting Results\")\n",
    "fig.legend();"
   ]
  },
  {
   "cell_type": "code",
   "execution_count": null,
   "id": "dfc2c223-6ef4-4993-b082-c72194e0b8f6",
   "metadata": {},
   "outputs": [],
   "source": []
  }
 ],
 "metadata": {
  "kernelspec": {
   "display_name": "Python 3 (ipykernel)",
   "language": "python",
   "name": "python3"
  },
  "language_info": {
   "codemirror_mode": {
    "name": "ipython",
    "version": 3
   },
   "file_extension": ".py",
   "mimetype": "text/x-python",
   "name": "python",
   "nbconvert_exporter": "python",
   "pygments_lexer": "ipython3",
   "version": "3.12.5"
  }
 },
 "nbformat": 4,
 "nbformat_minor": 5
}
